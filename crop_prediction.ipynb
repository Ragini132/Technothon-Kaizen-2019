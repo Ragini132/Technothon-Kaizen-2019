{
 "cells": [
  {
   "cell_type": "code",
   "execution_count": 8,
   "metadata": {},
   "outputs": [],
   "source": [
    "import pandas\n",
    "import matplotlib.pyplot as plt\n",
    "from sklearn import model_selection\n",
    "from sklearn.linear_model import LogisticRegression\n",
    "import pandas\n",
    "from sklearn import model_selection\n",
    "from sklearn.linear_model import LogisticRegression\n",
    "import pickle"
   ]
  },
  {
   "cell_type": "code",
   "execution_count": 9,
   "metadata": {},
   "outputs": [],
   "source": [
    "url = \"agriculture_crops.csv\"\n",
    "names = ['soil type', 'moisture content', 'weather','last crop grown','class']\n",
    "dataset = pandas.read_csv(url, names=names)"
   ]
  },
  {
   "cell_type": "code",
   "execution_count": 10,
   "metadata": {},
   "outputs": [
    {
     "name": "stdout",
     "output_type": "stream",
     "text": [
      "(30, 5)\n",
      "    soil type  moisture content  weather  last crop grown       class\n",
      "0           1                10        4                1      Cotton\n",
      "1           1                20        1                2      Cotton\n",
      "2           1                40        2                1      Cotton\n",
      "3           1                50        3                2        Rice\n",
      "4           1                15        4                2        Rice\n",
      "5           2                25        1                1   Sugarcane\n",
      "6           2                17        2                3   Sugarcane\n",
      "7           2                45        3                4  Surgarcane\n",
      "8           2                34        4                5       Wheat\n",
      "9           2                23        1                4       Wheat\n",
      "10          3                57        1                6      Potato\n",
      "11          3                45        3                6      Potato\n",
      "12          3                23        3                6      Potato\n",
      "13          3                12        4                5       Maize\n",
      "14          3                23        4                3       Maize\n",
      "15          4                12        2                2        Rice\n",
      "16          4                45        2                2        Rice\n",
      "17          4                23        3                2         Tea\n",
      "18          4                34        3                7        Rice\n",
      "19          4                33        1                1         Tea\n"
     ]
    }
   ],
   "source": [
    "print(dataset.shape)\n",
    "print(dataset.head(20))"
   ]
  },
  {
   "cell_type": "code",
   "execution_count": 11,
   "metadata": {},
   "outputs": [],
   "source": [
    "array = dataset.values\n",
    "X = array[:,0:4]\n",
    "Y = array[:,4]\n",
    "test_size = 0.20\n",
    "seed = 7\n"
   ]
  },
  {
   "cell_type": "code",
   "execution_count": 12,
   "metadata": {},
   "outputs": [
    {
     "name": "stderr",
     "output_type": "stream",
     "text": [
      "/anaconda2/lib/python2.7/site-packages/sklearn/linear_model/logistic.py:460: FutureWarning: Default multi_class will be changed to 'auto' in 0.22. Specify the multi_class option to silence this warning.\n",
      "  \"this warning.\", FutureWarning)\n"
     ]
    },
    {
     "data": {
      "text/plain": [
       "LogisticRegression(C=1.0, class_weight=None, dual=False, fit_intercept=True,\n",
       "          intercept_scaling=1, max_iter=100, multi_class='warn',\n",
       "          n_jobs=None, penalty='l2', random_state=None, solver='warn',\n",
       "          tol=0.0001, verbose=0, warm_start=False)"
      ]
     },
     "execution_count": 12,
     "metadata": {},
     "output_type": "execute_result"
    }
   ],
   "source": [
    "X_train, X_test, Y_train, Y_test = model_selection.train_test_split(X, Y, test_size=test_size, random_state=seed)\n",
    "model = LogisticRegression()\n",
    "model.fit(X_train, Y_train)"
   ]
  },
  {
   "cell_type": "code",
   "execution_count": 14,
   "metadata": {},
   "outputs": [
    {
     "name": "stdout",
     "output_type": "stream",
     "text": [
      "X=[1, 10, 4, 1], Predicted=Rice\n",
      "X=[45, 100, 1, 0], Predicted=Coffee\n"
     ]
    }
   ],
   "source": [
    "Xnew = [[1,10,4,1], [45,100,1,0]]\n",
    "# make a prediction\n",
    "ynew = model.predict(Xnew)\n",
    "\n",
    "\n",
    "# show the inputs and predicted outputs\n",
    "for i in range(len(Xnew)):\n",
    "\tprint(\"X=%s, Predicted=%s\" % (Xnew[i], ynew[i]))"
   ]
  },
  {
   "cell_type": "code",
   "execution_count": null,
   "metadata": {},
   "outputs": [],
   "source": []
  }
 ],
 "metadata": {
  "kernelspec": {
   "display_name": "Python 2",
   "language": "python",
   "name": "python2"
  },
  "language_info": {
   "codemirror_mode": {
    "name": "ipython",
    "version": 2
   },
   "file_extension": ".py",
   "mimetype": "text/x-python",
   "name": "python",
   "nbconvert_exporter": "python",
   "pygments_lexer": "ipython2",
   "version": "2.7.15"
  }
 },
 "nbformat": 4,
 "nbformat_minor": 2
}
